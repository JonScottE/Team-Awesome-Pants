{
 "cells": [
  {
   "cell_type": "code",
   "execution_count": 1,
   "id": "15631338-b350-44c5-aeee-ec867aac536d",
   "metadata": {},
   "outputs": [
    {
     "name": "stdout",
     "output_type": "stream",
     "text": [
      "Requirement already satisfied: tiingo in /Users/michellefesi/opt/anaconda3/envs/alpacaenv/lib/python3.7/site-packages (0.14.0)\n",
      "Requirement already satisfied: requests in /Users/michellefesi/opt/anaconda3/envs/alpacaenv/lib/python3.7/site-packages (from tiingo) (2.26.0)\n",
      "Requirement already satisfied: charset-normalizer~=2.0.0 in /Users/michellefesi/opt/anaconda3/envs/alpacaenv/lib/python3.7/site-packages (from requests->tiingo) (2.0.4)\n",
      "Requirement already satisfied: idna<4,>=2.5 in /Users/michellefesi/opt/anaconda3/envs/alpacaenv/lib/python3.7/site-packages (from requests->tiingo) (3.2)\n",
      "Requirement already satisfied: certifi>=2017.4.17 in /Users/michellefesi/opt/anaconda3/envs/alpacaenv/lib/python3.7/site-packages (from requests->tiingo) (2021.10.8)\n",
      "Requirement already satisfied: urllib3<1.27,>=1.21.1 in /Users/michellefesi/opt/anaconda3/envs/alpacaenv/lib/python3.7/site-packages (from requests->tiingo) (1.26.7)\n"
     ]
    }
   ],
   "source": [
    "import os\n",
    "import requests\n",
    "import pandas as pd\n",
    "import json\n",
    "from dotenv import load_dotenv\n",
    "import pprint\n",
    "!pip install tiingo"
   ]
  },
  {
   "cell_type": "code",
   "execution_count": 2,
   "id": "2f02f959-603a-43ab-ae6e-03caaff28108",
   "metadata": {},
   "outputs": [
    {
     "data": {
      "text/plain": [
       "True"
      ]
     },
     "execution_count": 2,
     "metadata": {},
     "output_type": "execute_result"
    }
   ],
   "source": [
    "TIINGO_API_KEY = os.getenv(\"tiingo_key\")\n",
    "load_dotenv()\n"
   ]
  },
  {
   "cell_type": "code",
   "execution_count": 3,
   "id": "606b504f-afcf-438c-a79c-a002b67adda4",
   "metadata": {},
   "outputs": [
    {
     "name": "stdout",
     "output_type": "stream",
     "text": [
      "{'message': 'You successfully sent a request'}\n"
     ]
    }
   ],
   "source": [
    "import requests\n",
    "\n",
    "headers = {\n",
    "        'Content-Type': 'application/json'\n",
    "        }\n",
    "requestResponse = requests.get(\"https://api.tiingo.com/api/test?token=1b545063658e8ac3669f26afd4f3439ff66adb3f\",\n",
    "                                    headers=headers)\n",
    "print(requestResponse.json())\n",
    "                                       "
   ]
  },
  {
   "cell_type": "code",
   "execution_count": 5,
   "id": "afe0159d-37bb-419c-92d9-0db31df89c20",
   "metadata": {},
   "outputs": [],
   "source": [
    "from tiingo import TiingoClient\n",
    "\n",
    "config = {\n",
    "    'api_key': '1b545063658e8ac3669f26afd4f3439ff66adb3f',\n",
    "    'session': True # Reuse HTTP sessions across API calls for better performance\n",
    "}\n",
    "\n",
    "# Throughout the rest of this notebook, you'll use the \"client\" to interact with the Tiingo backend services.\n",
    "client = TiingoClient(config)"
   ]
  },
  {
   "cell_type": "code",
   "execution_count": 17,
   "id": "efdfc207-805f-4109-ba0e-1d43794c388d",
   "metadata": {
    "tags": []
   },
   "outputs": [],
   "source": [
    "# You can obtain cryptocurrency metadata using the following method.\n",
    "# NOTE: Crypto symbol MUST be encapsulated in brackets as a Python list!\n",
    "\n",
    "meta_data = client.get_crypto_metadata(['BTCUSD'], fmt='json')\n",
    "\n",
    "#You can obtain top-of-book cryptocurrency quotes from the ``get_crypto_top_of_book()`` method.\n",
    "# NOTE: Crypto symbol MUST be encapsulated in brackets as a Python list!\n",
    "\n",
    "book_data = crypto_price = client.get_crypto_top_of_book(['BTCUSD'])\n",
    "\n",
    "# You can obtain historical Cryptocurrency price quotes from the get_crypto_price_history() method.\n",
    "# NOTE: Crypto symbol MUST be encapsulated in brackets as a Python list!\n",
    "\n",
    "history_data_df = client.get_crypto_price_history(tickers = ['BTCUSD'], startDate='2020-12-1',\n",
    "                                endDate='2021-11-30', resampleFreq='1Day')"
   ]
  },
  {
   "cell_type": "code",
   "execution_count": 19,
   "id": "2972e84f-2a4c-4043-84ec-c5b1c3b6c64d",
   "metadata": {},
   "outputs": [
    {
     "ename": "AttributeError",
     "evalue": "'list' object has no attribute 'columns'",
     "output_type": "error",
     "traceback": [
      "\u001b[0;31m---------------------------------------------------------------------------\u001b[0m",
      "\u001b[0;31mAttributeError\u001b[0m                            Traceback (most recent call last)",
      "\u001b[0;32m/var/folders/qy/49f8h3cn59549srlnkk0n7600000gn/T/ipykernel_21506/1518223756.py\u001b[0m in \u001b[0;36m<module>\u001b[0;34m\u001b[0m\n\u001b[0;32m----> 1\u001b[0;31m \u001b[0mhistory_data_df\u001b[0m\u001b[0;34m.\u001b[0m\u001b[0mcolumns\u001b[0m\u001b[0;34m\u001b[0m\u001b[0;34m\u001b[0m\u001b[0m\n\u001b[0m",
      "\u001b[0;31mAttributeError\u001b[0m: 'list' object has no attribute 'columns'"
     ]
    }
   ],
   "source": [
    "history_data_df.columns"
   ]
  },
  {
   "cell_type": "code",
   "execution_count": null,
   "id": "3776bb82-803e-496c-9f24-acf6be343625",
   "metadata": {},
   "outputs": [],
   "source": []
  }
 ],
 "metadata": {
  "kernelspec": {
   "display_name": "Python 3 (ipykernel)",
   "language": "python",
   "name": "python3"
  },
  "language_info": {
   "codemirror_mode": {
    "name": "ipython",
    "version": 3
   },
   "file_extension": ".py",
   "mimetype": "text/x-python",
   "name": "python",
   "nbconvert_exporter": "python",
   "pygments_lexer": "ipython3",
   "version": "3.7.11"
  }
 },
 "nbformat": 4,
 "nbformat_minor": 5
}
